{
 "cells": [
  {
   "cell_type": "code",
   "execution_count": null,
   "metadata": {},
   "outputs": [],
   "source": [
    "from google.colab import drive\n",
    "import os \n",
    "\n",
    "drive.mount('/content/drive')\n",
    "\n",
    "path = '/content/drive/MyDrive/Hepsiburada Sentiment'\n",
    "\n",
    "data_path = path + '/' + os.listdir(path)[0]"
   ]
  },
  {
   "cell_type": "code",
   "execution_count": 2,
   "metadata": {},
   "outputs": [],
   "source": [
    "import numpy as np\n",
    "import pandas as pd \n",
    "import matplotlib.pyplot as plt\n",
    "\n",
    "from sklearn.model_selection import train_test_split\n",
    "from tensorflow.keras.preprocessing.text import Tokenizer\n",
    "from tensorflow.keras.preprocessing.sequence import pad_sequences\n",
    "\n",
    "from tensorflow.keras.models import Sequential\n",
    "from tensorflow.keras.layers import Embedding\n",
    "from tensorflow.keras.layers import GRU, LSTM\n",
    "from tensorflow.keras.layers import Dense\n",
    "\n",
    "from tensorflow.keras import optimizers\n",
    "\n",
    "from sklearn.metrics import accuracy_score\n",
    "    \n",
    "import warnings\n",
    "warnings.filterwarnings('ignore')"
   ]
  },
  {
   "cell_type": "code",
   "execution_count": 37,
   "metadata": {},
   "outputs": [],
   "source": [
    "data = pd.read_csv(data_path)\n",
    "data.head() \n",
    "\n",
    "df = data.copy()"
   ]
  },
  {
   "cell_type": "code",
   "execution_count": 11,
   "metadata": {},
   "outputs": [
    {
     "data": {
      "image/png": "[encoded data removed]",
      "text/plain": [
       "<Figure size 1000x600 with 1 Axes>"
      ]
     },
     "metadata": {},
     "output_type": "display_data"
    }
   ],
   "source": [
    "bar_plot = df['Rating'].value_counts().sort_index().plot(\n",
    "    kind='bar', title='Count of Rating',color='black', figsize=(10, 6)\n",
    ")\n",
    "bar_plot.set_xlabel('Rating')\n",
    "plt.show()"
   ]
  },
  {
   "cell_type": "code",
   "execution_count": 12,
   "metadata": {},
   "outputs": [],
   "source": [
    "y = df['Rating'].values\n",
    "X = df['Review'].values     \n",
    "\n",
    "X_train, X_test, y_train, y_test = train_test_split(\n",
    "    X, y, test_size=0.2, random_state=42\n",
    ")"
   ]
  },
  {
   "cell_type": "code",
   "execution_count": 14,
   "metadata": {},
   "outputs": [
    {
     "name": "stdout",
     "output_type": "stream",
     "text": [
      "normal length 243497\n",
      "unique length 214662\n"
     ]
    }
   ],
   "source": [
    "print('normal length', len(X))\n",
    "print('unique length', len(set(X)))"
   ]
  },
  {
   "cell_type": "code",
   "execution_count": null,
   "metadata": {},
   "outputs": [],
   "source": [
    "# text_to_sequences is used to convert text to a list of integer sequences\n",
    "\n",
    "tokenizer = Tokenizer(num_words=10000)\n",
    " \n",
    "tokenizer.fit_on_texts(X)\n",
    "\n",
    "X_train_tokenized = tokenizer.texts_to_sequences(X_train)\n",
    "X_test_tokenized = tokenizer.texts_to_sequences(X_test)"
   ]
  },
  {
   "cell_type": "code",
   "execution_count": 18,
   "metadata": {},
   "outputs": [
    {
     "name": "stdout",
     "output_type": "stream",
     "text": [
      "çok 1\n",
      "bir 2\n",
      "ve 3\n",
      "ürün 4\n",
      "bu 5\n",
      "iyi 6\n",
      "güzel 7\n",
      "için 8\n",
      "tavsiye 9\n",
      "ederim 10\n"
     ]
    }
   ],
   "source": [
    "keys = list(tokenizer.word_index.keys())[:10]\n",
    "values = list(tokenizer.word_index.values())[:10]\n",
    "\n",
    "for key, value in zip(keys, values):\n",
    "    print(key, value)   "
   ]
  },
  {
   "cell_type": "code",
   "execution_count": 24,
   "metadata": {},
   "outputs": [
    {
     "data": {
      "text/plain": [
       "array([21, 25, 17, ..., 18, 39, 21])"
      ]
     },
     "execution_count": 24,
     "metadata": {},
     "output_type": "execute_result"
    }
   ],
   "source": [
    "num_tokens = np.array([len(token) for token in X_train_tokenized + X_test_tokenized])\n",
    "num_tokens"
   ]
  },
  {
   "cell_type": "code",
   "execution_count": 25,
   "metadata": {},
   "outputs": [
    {
     "name": "stdout",
     "output_type": "stream",
     "text": [
      "mean 20.744703220162876\n",
      "std 19.533556911847846\n",
      "argmax 234980\n"
     ]
    }
   ],
   "source": [
    "print('mean', num_tokens.mean())\n",
    "print('std', num_tokens.std())\n",
    "print('argmax', num_tokens.argmax())"
   ]
  },
  {
   "cell_type": "code",
   "execution_count": 26,
   "metadata": {},
   "outputs": [
    {
     "data": {
      "text/plain": [
       "'Özellikle bu kısma yazıyorum iyice okuyunuz,cihazın hızı çok iyi.Isınma normal boyutlarda.Kamerası elinizi sabit tutarsanız ve gündüz çok net gece ise çok net çekmez.Görüntülü konuşma özelliği yok ancak uygulama ile olur,anten çekimi gayet iyi.Parmak izi okuyucusu gayet hızlı bazen tuşu silmenizi istiyor ve okuyamıyor kirden vs...Ön kamera da tatmin edici,çekim esnasında ekran beyaz ışık vererek flaş görevi görür.Batarya bana 1 hafta gidiyor sık kullanımda ise 2-3 gün gidiyor.Hızlı şarj 1 saatte doluyor , şekilleri ele oturuyor ve şık bir görüntü var.Telefonu aldığım gün gittim ve ilk girdiğim yerden ekran koruyucu ve kılıf buldum.Kulaklık sesi çok net ve yüksek ancak kendi hoparlörü biraz zayıf sesi.Ekrana bakarken açık kalma özelliği yok.Diğer akıllı cihaz özellikleri %90 ı bu cihazda mevcut.Güç tasarrufu 2 ayrı modu var ve çok başarılı çalışıyor.4gb ram var genelde yarısı boş kalıyor.Bir de yeni cihazların çoğu titreşimi az ve sesi de az çıkıyor.Bu cihaz da içine dahil...Bu cihazlar güncelleme almaz ve rom bulunmuyormuş.Benim için güncelleme sorun olmaz -cihaz parasına göre s serisi ile yarışıyor çünkü.Biraz metal olmasından dolayı elden kolay kaysada duruşu ve gösterişi iyidir.Çift flaşı var arkada.Kısaca şöyle ki bu fiyata bu ürün alınır.5 aydır kullanıyorum kasma donma felan zaten olmaz,bataryası iyi,şekli iyi,özellikler de iyi....En büyük kafa karıştıran soru şu ki hadi cihaz arıza yaptı veya düştü ekranı kırıldı.Bunun bir servisi var,ithalatçı garantisi de var.Cihazın adı sanı belli...Parça bulanmaz tamir olmaz derseniz size kalmış.Zaten normal bir cihazı da düşürseniz farkedermi?.Güncelleme almaz diyorlar bu konuda düşünebilirsiniz.S serisi cihazlarla hızını kıyaslarsınız ama güncelleme ile araya fark koymuşlar.İki katı fiyata satılan cihazla farkı olmasa zaten olmaz değil mi?Almayı düşünenler başka bir cihazla kıyas yapacaksa yine  7pro veya 9 baksınlar.C5 pro da biraz boyutu kısa ve kibar....Sonuçta ömürlük değil alın fazla düşünmeyin'"
      ]
     },
     "execution_count": 26,
     "metadata": {},
     "output_type": "execute_result"
    }
   ],
   "source": [
    "np.concatenate((X_train, X_test))[num_tokens.argmax()]"
   ]
  },
  {
   "cell_type": "code",
   "execution_count": 27,
   "metadata": {},
   "outputs": [
    {
     "data": {
      "text/plain": [
       "59"
      ]
     },
     "execution_count": 27,
     "metadata": {},
     "output_type": "execute_result"
    }
   ],
   "source": [
    "max_token = int(num_tokens.mean() + (2 * num_tokens.std()))\n",
    "max_token"
   ]
  },
  {
   "cell_type": "code",
   "execution_count": 28,
   "metadata": {},
   "outputs": [
    {
     "data": {
      "text/plain": [
       "0.9597982726686571"
      ]
     },
     "execution_count": 28,
     "metadata": {},
     "output_type": "execute_result"
    }
   ],
   "source": [
    "# 0.95 means that %95 of the data has less than max_token number of words\n",
    "# %5 can be neglected \n",
    "\n",
    "(num_tokens < max_token).sum() / len(num_tokens)"
   ]
  },
  {
   "cell_type": "code",
   "execution_count": 29,
   "metadata": {},
   "outputs": [
    {
     "data": {
      "text/plain": [
       "(194797, 59)"
      ]
     },
     "execution_count": 29,
     "metadata": {},
     "output_type": "execute_result"
    }
   ],
   "source": [
    "# pad_sequences is used to make all the sentences the same length\n",
    "\n",
    "X_train_tokenized_pad = pad_sequences(X_train_tokenized, maxlen=max_token)\n",
    "X_test_tokenized_pad = pad_sequences(X_test_tokenized, maxlen=max_token)\n",
    "\n",
    "X_train_tokenized_pad.shape"
   ]
  },
  {
   "cell_type": "code",
   "execution_count": 30,
   "metadata": {},
   "outputs": [
    {
     "data": {
      "text/plain": [
       "[86, 32, 14, 7, 2, 4, 3294, 416]"
      ]
     },
     "execution_count": 30,
     "metadata": {},
     "output_type": "execute_result"
    }
   ],
   "source": [
    "X_train_tokenized[13]"
   ]
  },
  {
   "cell_type": "code",
   "execution_count": 31,
   "metadata": {},
   "outputs": [
    {
     "data": {
      "text/plain": [
       "array([   0,    0,    0,    0,    0,    0,    0,    0,    0,    0,    0,\n",
       "          0,    0,    0,    0,    0,    0,    0,    0,    0,    0,    0,\n",
       "          0,    0,    0,    0,    0,    0,    0,    0,    0,    0,    0,\n",
       "          0,    0,    0,    0,    0,    0,    0,    0,    0,    0,    0,\n",
       "          0,    0,    0,    0,    0,    0,    0,   86,   32,   14,    7,\n",
       "          2,    4, 3294,  416])"
      ]
     },
     "execution_count": 31,
     "metadata": {},
     "output_type": "execute_result"
    }
   ],
   "source": [
    "X_train_tokenized_pad[13]"
   ]
  },
  {
   "cell_type": "code",
   "execution_count": 50,
   "metadata": {},
   "outputs": [
    {
     "data": {
      "text/plain": [
       "'fiyatına göre gayet güzel bir ürün ışıkta güçlü'"
      ]
     },
     "execution_count": 50,
     "metadata": {},
     "output_type": "execute_result"
    }
   ],
   "source": [
    "word_index = tokenizer.word_index\n",
    "inversed_word_idex = dict(zip(word_index.values(), word_index.keys()))\n",
    "\n",
    "def show_text_from_tokens(tokens):\n",
    "\n",
    "  words = [inversed_word_idex[token] for token in tokens if token !=0]\n",
    "  return ' '.join(words)\n",
    "\n",
    "show_text_from_tokens(X_train_tokenized_pad[13])"
   ]
  },
  {
   "cell_type": "code",
   "execution_count": null,
   "metadata": {},
   "outputs": [],
   "source": [
    "# ?Embedding\n",
    "\"\"\"\n",
    "Init signature:\n",
    "Embedding(\n",
    "    input_dim, => is used to determine the size of the vocabulary.\n",
    "    output_dim, => is used to determine the size of the embedding vectors.\n",
    "    embeddings_initializer='uniform', => is used to initialize the embedding matrix.\n",
    "    embeddings_regularizer=None, => is used to apply regularization to the embedding matrix.\n",
    "    activity_regularizer=None,  => is used to apply regularization to the output of the layer.\n",
    "    embeddings_constraint=None, => is used to apply constraints to the embedding matrix.\n",
    "    mask_zero=False, => is used to specify whether or not the input value 0 is a special \"padding\" value that should be masked out.\n",
    "    input_length=None, => is used to specify the length of input sequences.\n",
    "    sparse=False, => is used to specify whether or not the input is sparse.\n",
    "    **kwargs,\n",
    ")\n",
    "\"\"\"\n",
    "\n",
    "# ?LSTM\n",
    "\"\"\"\n",
    "Init signature:\n",
    "LSTM(\n",
    "    units,\n",
    "    activation='tanh',\n",
    "    recurrent_activation='sigmoid',\n",
    "    use_bias=True,\n",
    "    kernel_initializer='glorot_uniform',\n",
    "    recurrent_initializer='orthogonal',\n",
    "    bias_initializer='zeros',\n",
    "    unit_forget_bias=True,\n",
    "    kernel_regularizer=None,\n",
    "    recurrent_regularizer=None,\n",
    "    bias_regularizer=None,\n",
    "    activity_regularizer=None,\n",
    "    kernel_constraint=None,\n",
    "    recurrent_constraint=None,\n",
    "    bias_constraint=None,\n",
    "    dropout=0.0,\n",
    "    recurrent_dropout=0.0,\n",
    "    return_sequences=False,\n",
    "    return_state=False,\n",
    "    go_backwards=False,\n",
    "    stateful=False,\n",
    "    time_major=False,\n",
    "    unroll=False,\n",
    "\"\"\"\n",
    "\n",
    "\n",
    "# ?GRU\n",
    "\"\"\"\n",
    "Init signature:\n",
    "GRU(\n",
    "    units, => is used to determine the output size of the GRU layer.\n",
    "    activation='tanh', => is used to determine the activation function.\n",
    "    recurrent_activation='sigmoid', => is used to determine the activation function for the recurrent step.\n",
    "    use_bias=True, => is used to determine whether or not a bias vector will be used.\n",
    "    kernel_initializer='glorot_uniform', => is used to initialize the kernel weights matrix.\n",
    "    recurrent_initializer='orthogonal', => is used to initialize the recurrent weights matrix.\n",
    "    bias_initializer='zeros', => is used to initialize the bias vector.\n",
    "    kernel_regularizer=None, => is used to apply regularization to the kernel weights matrix.\n",
    "    recurrent_regularizer=None, => is used to apply regularization to the recurrent weights matrix.\n",
    "    bias_regularizer=None, => is used to apply regularization to the bias vector.\n",
    "    activity_regularizer=None, => is used to apply regularization to the output of the layer.\n",
    "    kernel_constraint=None, => is used to apply constraints to the kernel weights matrix.\n",
    "    recurrent_constraint=None, => is used to apply constraints to the recurrent weights matrix.\n",
    "    bias_constraint=None, => is used to apply constraints to the bias vector. \n",
    "    dropout=0.0, => is used to specify the dropout rate for the input units. \n",
    "    recurrent_dropout=0.0, => is used to specify the dropout rate for the recurrent units.\n",
    "    return_sequences=False, => is used to specify whether or not the output of the layer will be a sequence. \n",
    "    return_state=False, => is used to specify whether or not the last state will be returned in addition to the output.\n",
    "    go_backwards=False, => is used to specify the direction of the input sequence.\n",
    "    stateful=False, => is used to specify whether or not the last state for each sample at index i in a batch will be used as initial state for the sample of index i in the following batch.\n",
    "    unroll=False, => is used to specify whether or not the network will be unrolled.\n",
    "    time_major=False, => is used to specify whether the first dimension represents the time steps. \n",
    "    reset_after=True, => is used to specify whether the reset gate is applied after or before the matrix multiplication.\n",
    "...\n",
    "\"\"\""
   ]
  },
  {
   "cell_type": "markdown",
   "metadata": {},
   "source": [
    "## What is the difference between LSTM and GRU?\n",
    "\n",
    "differences table \n",
    "\n",
    "| LSTM | GRU |\n",
    "| --- | --- |\n",
    "| LSTM has three gates: input, output, and forget gate | GRU has two gates: reset and update gate |\n",
    "| LSTM has a cell state that runs through the entire chain, whereas GRU has a hidden state that runs through the entire chain | GRU does not have a cell state like LSTM |\n",
    "| LSTM is more complex than GRU | GRU is less complex than LSTM |"
   ]
  },
  {
   "cell_type": "markdown",
   "metadata": {},
   "source": [
    "### LSTM(Long Short Term Memory) for Sentiment Analysis"
   ]
  },
  {
   "cell_type": "code",
   "execution_count": 52,
   "metadata": {},
   "outputs": [
    {
     "name": "stdout",
     "output_type": "stream",
     "text": [
      "Model: \"sequential_10\"\n",
      "_________________________________________________________________\n",
      " Layer (type)                Output Shape              Param #   \n",
      "=================================================================\n",
      " embedding_9 (Embedding)     (None, 59, 50)            500000    \n",
      "                                                                 \n",
      " lstm_18 (LSTM)              (None, 59, 16)            4288      \n",
      "                                                                 \n",
      " lstm_19 (LSTM)              (None, 59, 8)             800       \n",
      "                                                                 \n",
      " lstm_20 (LSTM)              (None, 4)                 208       \n",
      "                                                                 \n",
      " dense_6 (Dense)             (None, 1)                 5         \n",
      "                                                                 \n",
      "=================================================================\n",
      "Total params: 505301 (1.93 MB)\n",
      "Trainable params: 505301 (1.93 MB)\n",
      "Non-trainable params: 0 (0.00 Byte)\n",
      "_________________________________________________________________\n"
     ]
    }
   ],
   "source": [
    "model = Sequential()\n",
    "\n",
    "model.add(\n",
    "    Embedding(\n",
    "        input_dim=10000,\n",
    "        output_dim=50, \n",
    "        input_length=59\n",
    "    )\n",
    ")\n",
    "\n",
    "model.add(LSTM(units=16, activation='tanh', return_sequences=True))\n",
    "model.add(LSTM(units=8, activation='tanh', return_sequences=True))\n",
    "model.add(LSTM(units=4, activation='tanh', return_sequences=False))\n",
    "model.add(Dense(units=1, activation='sigmoid'))\n",
    "\n",
    "model.compile(loss='binary_crossentropy', optimizer=optimizers.Adam(), metrics=['accuracy'])\n",
    "\n",
    "model.summary()"
   ]
  },
  {
   "cell_type": "code",
   "execution_count": 53,
   "metadata": {},
   "outputs": [
    {
     "name": "stdout",
     "output_type": "stream",
     "text": [
      "Epoch 1/2\n",
      "6088/6088 [==============================] - 411s 66ms/step - loss: 0.1277 - accuracy: 0.9586\n",
      "Epoch 2/2\n",
      "6088/6088 [==============================] - 420s 69ms/step - loss: 0.0765 - accuracy: 0.9734\n"
     ]
    },
    {
     "data": {
      "text/plain": [
       "<keras.src.callbacks.History at 0x1d9b6dd7d90>"
      ]
     },
     "execution_count": 53,
     "metadata": {},
     "output_type": "execute_result"
    }
   ],
   "source": [
    "model.fit(X_train_tokenized_pad, y_train, epochs=2)"
   ]
  },
  {
   "cell_type": "code",
   "execution_count": 59,
   "metadata": {},
   "outputs": [
    {
     "name": "stdout",
     "output_type": "stream",
     "text": [
      "1522/1522 [==============================] - 20s 12ms/step - loss: 0.0862 - accuracy: 0.9696\n"
     ]
    },
    {
     "data": {
      "text/plain": [
       "0.9696098566055298"
      ]
     },
     "execution_count": 59,
     "metadata": {},
     "output_type": "execute_result"
    }
   ],
   "source": [
    "model.evaluate(X_test_tokenized_pad, y_test)[1]"
   ]
  },
  {
   "cell_type": "code",
   "execution_count": 58,
   "metadata": {},
   "outputs": [
    {
     "name": "stdout",
     "output_type": "stream",
     "text": [
      "1522/1522 [==============================] - 20s 12ms/step\n"
     ]
    }
   ],
   "source": [
    "predicted = model.predict(X_test_tokenized_pad)  "
   ]
  },
  {
   "cell_type": "code",
   "execution_count": 60,
   "metadata": {},
   "outputs": [
    {
     "data": {
      "text/plain": [
       "[1, 1, 1, 1, 1, 1, 1, 0.0, 1, 1]"
      ]
     },
     "execution_count": 60,
     "metadata": {},
     "output_type": "execute_result"
    }
   ],
   "source": [
    "y_pred_lstm = [1 if value >=0.5 else 0.0 for value in predicted]\n",
    "y_pred_lstm[:10]"
   ]
  },
  {
   "cell_type": "code",
   "execution_count": 61,
   "metadata": {},
   "outputs": [
    {
     "data": {
      "text/plain": [
       "0.9696098562628337"
      ]
     },
     "execution_count": 61,
     "metadata": {},
     "output_type": "execute_result"
    }
   ],
   "source": [
    "accuracy_score(y_test, y_pred_lstm)"
   ]
  },
  {
   "cell_type": "markdown",
   "metadata": {},
   "source": [
    "### GRU(Gated Recurrent Unit) for Sentiment Analysis"
   ]
  },
  {
   "cell_type": "code",
   "execution_count": 62,
   "metadata": {},
   "outputs": [
    {
     "name": "stdout",
     "output_type": "stream",
     "text": [
      "Model: \"sequential_11\"\n",
      "_________________________________________________________________\n",
      " Layer (type)                Output Shape              Param #   \n",
      "=================================================================\n",
      " embedding_10 (Embedding)    (None, 59, 50)            500000    \n",
      "                                                                 \n",
      " gru_3 (GRU)                 (None, 59, 16)            3264      \n",
      "                                                                 \n",
      " gru_4 (GRU)                 (None, 59, 8)             624       \n",
      "                                                                 \n",
      " gru_5 (GRU)                 (None, 4)                 168       \n",
      "                                                                 \n",
      " dense_7 (Dense)             (None, 1)                 5         \n",
      "                                                                 \n",
      "=================================================================\n",
      "Total params: 504061 (1.92 MB)\n",
      "Trainable params: 504061 (1.92 MB)\n",
      "Non-trainable params: 0 (0.00 Byte)\n",
      "_________________________________________________________________\n"
     ]
    }
   ],
   "source": [
    "model = Sequential()\n",
    "\n",
    "model.add(Embedding(\n",
    "    input_dim=10000,\n",
    "    output_dim=50,\n",
    "    input_length=59\n",
    "))\n",
    "\n",
    "model.add(GRU(units=16, activation='tanh', return_sequences=True))\n",
    "model.add(GRU(units=8, activation='tanh', return_sequences=True))\n",
    "model.add(GRU(units=4, activation='tanh', return_sequences=False))\n",
    "model.add(Dense(units=1, activation='sigmoid'))\n",
    "\n",
    "model.compile(loss='binary_crossentropy', optimizer=optimizers.Adam(), metrics=['accuracy'])\n",
    "\n",
    "model.summary()"
   ]
  },
  {
   "cell_type": "code",
   "execution_count": 63,
   "metadata": {},
   "outputs": [
    {
     "name": "stdout",
     "output_type": "stream",
     "text": [
      "Epoch 1/2\n",
      "6088/6088 [==============================] - 467s 75ms/step - loss: 0.1695 - accuracy: 0.9523\n",
      "Epoch 2/2\n",
      "6088/6088 [==============================] - 419s 69ms/step - loss: 0.0830 - accuracy: 0.9716\n"
     ]
    },
    {
     "data": {
      "text/plain": [
       "<keras.src.callbacks.History at 0x1d9b4ee76d0>"
      ]
     },
     "execution_count": 63,
     "metadata": {},
     "output_type": "execute_result"
    }
   ],
   "source": [
    "model.fit(X_train_tokenized_pad, y_train, epochs=2)"
   ]
  },
  {
   "cell_type": "code",
   "execution_count": 64,
   "metadata": {},
   "outputs": [
    {
     "name": "stdout",
     "output_type": "stream",
     "text": [
      "1522/1522 [==============================] - 18s 11ms/step - loss: 0.0857 - accuracy: 0.9709\n"
     ]
    },
    {
     "data": {
      "text/plain": [
       "0.9708829522132874"
      ]
     },
     "execution_count": 64,
     "metadata": {},
     "output_type": "execute_result"
    }
   ],
   "source": [
    "model.evaluate(X_test_tokenized_pad, y_test)[1]"
   ]
  },
  {
   "cell_type": "code",
   "execution_count": 65,
   "metadata": {},
   "outputs": [
    {
     "name": "stdout",
     "output_type": "stream",
     "text": [
      "1522/1522 [==============================] - 17s 10ms/step\n"
     ]
    }
   ],
   "source": [
    "predicted = model.predict(X_test_tokenized_pad)  "
   ]
  },
  {
   "cell_type": "code",
   "execution_count": 66,
   "metadata": {},
   "outputs": [
    {
     "data": {
      "text/plain": [
       "[1, 1, 1, 1, 1, 1, 1, 0.0, 1, 1]"
      ]
     },
     "execution_count": 66,
     "metadata": {},
     "output_type": "execute_result"
    }
   ],
   "source": [
    "y_pred_gru = [1 if value >=0.5 else 0.0 for value in predicted]\n",
    "y_pred_gru[:10]"
   ]
  },
  {
   "cell_type": "code",
   "execution_count": 67,
   "metadata": {},
   "outputs": [
    {
     "data": {
      "text/plain": [
       "0.9708829568788501"
      ]
     },
     "execution_count": 67,
     "metadata": {},
     "output_type": "execute_result"
    }
   ],
   "source": [
    "accuracy_score(y_test, y_pred_gru)"
   ]
  },
  {
   "cell_type": "markdown",
   "metadata": {},
   "source": [
    "### Basic Machine Learning Models for Sentiment Analysis"
   ]
  },
  {
   "cell_type": "code",
   "execution_count": 36,
   "metadata": {},
   "outputs": [],
   "source": [
    "from sklearn.feature_extraction.text import CountVectorizer\n",
    "\n",
    "vectorizer = CountVectorizer(max_features=10000)\n",
    "\n",
    "X_train_vectorized = vectorizer.fit_transform(X_train)\n",
    "X_test_vectorized = vectorizer.transform(X_test)"
   ]
  },
  {
   "cell_type": "code",
   "execution_count": 42,
   "metadata": {},
   "outputs": [
    {
     "data": {
      "text/plain": [
       "0.9650308008213553"
      ]
     },
     "execution_count": 42,
     "metadata": {},
     "output_type": "execute_result"
    }
   ],
   "source": [
    "from sklearn.linear_model import LogisticRegression\n",
    "\n",
    "logistic_regression = LogisticRegression()\n",
    "\n",
    "logistic_regression.fit(X_train_vectorized, y_train)\n",
    "\n",
    "accuracy_score(y_test, logistic_regression.predict(X_test_vectorized))"
   ]
  },
  {
   "cell_type": "code",
   "execution_count": null,
   "metadata": {},
   "outputs": [],
   "source": []
  }
 ],
 "metadata": {
  "kernelspec": {
   "display_name": "Python 3",
   "language": "python",
   "name": "python3"
  },
  "language_info": {
   "codemirror_mode": {
    "name": "ipython",
    "version": 3
   },
   "file_extension": ".py",
   "mimetype": "text/x-python",
   "name": "python",
   "nbconvert_exporter": "python",
   "pygments_lexer": "ipython3",
   "version": "3.11.3"
  },
  "orig_nbformat": 4
 },
 "nbformat": 4,
 "nbformat_minor": 2
}
